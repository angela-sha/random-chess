{
 "cells": [
  {
   "cell_type": "code",
   "execution_count": 5,
   "metadata": {},
   "outputs": [
    {
     "ename": "KeyboardInterrupt",
     "evalue": "",
     "output_type": "error",
     "traceback": [
      "\u001b[0;31m---------------------------------------------------------------------------\u001b[0m",
      "\u001b[0;31mKeyboardInterrupt\u001b[0m                         Traceback (most recent call last)",
      "\u001b[0;32m<ipython-input-5-c103617f63c3>\u001b[0m in \u001b[0;36m<module>\u001b[0;34m\u001b[0m\n\u001b[1;32m     38\u001b[0m \u001b[0mq\u001b[0m \u001b[0;34m=\u001b[0m \u001b[0mQueue\u001b[0m\u001b[0;34m(\u001b[0m\u001b[0;34m)\u001b[0m\u001b[0;34m\u001b[0m\u001b[0;34m\u001b[0m\u001b[0m\n\u001b[1;32m     39\u001b[0m \u001b[0;32mfor\u001b[0m \u001b[0mi\u001b[0m \u001b[0;32min\u001b[0m \u001b[0mrange\u001b[0m\u001b[0;34m(\u001b[0m\u001b[0mworkers\u001b[0m\u001b[0;34m)\u001b[0m\u001b[0;34m:\u001b[0m\u001b[0;34m\u001b[0m\u001b[0;34m\u001b[0m\u001b[0m\n\u001b[0;32m---> 40\u001b[0;31m     \u001b[0m_thread\u001b[0m\u001b[0;34m.\u001b[0m\u001b[0mstart_new_thread\u001b[0m\u001b[0;34m(\u001b[0m\u001b[0mthread_wrapper\u001b[0m\u001b[0;34m(\u001b[0m\u001b[0mi\u001b[0m\u001b[0;34m,\u001b[0m \u001b[0mplay\u001b[0m\u001b[0;34m(\u001b[0m\u001b[0mi\u001b[0m\u001b[0;34m)\u001b[0m\u001b[0;34m,\u001b[0m \u001b[0mstatus\u001b[0m\u001b[0;34m,\u001b[0m \u001b[0mq\u001b[0m\u001b[0;34m)\u001b[0m\u001b[0;34m,\u001b[0m \u001b[0mtuple\u001b[0m\u001b[0;34m(\u001b[0m\u001b[0;34m)\u001b[0m\u001b[0;34m)\u001b[0m\u001b[0;34m\u001b[0m\u001b[0;34m\u001b[0m\u001b[0m\n\u001b[0m\u001b[1;32m     41\u001b[0m \u001b[0;34m\u001b[0m\u001b[0m\n\u001b[1;32m     42\u001b[0m \u001b[0;32mwhile\u001b[0m \u001b[0;32mnot\u001b[0m \u001b[0mall\u001b[0m\u001b[0;34m(\u001b[0m\u001b[0mstatus\u001b[0m\u001b[0;34m)\u001b[0m\u001b[0;34m:\u001b[0m\u001b[0;34m\u001b[0m\u001b[0;34m\u001b[0m\u001b[0m\n",
      "\u001b[0;32m<ipython-input-5-c103617f63c3>\u001b[0m in \u001b[0;36mplay\u001b[0;34m(i)\u001b[0m\n\u001b[1;32m     25\u001b[0m     \u001b[0mboard\u001b[0m \u001b[0;34m=\u001b[0m \u001b[0mchess\u001b[0m\u001b[0;34m.\u001b[0m\u001b[0mBoard\u001b[0m\u001b[0;34m(\u001b[0m\u001b[0;34m)\u001b[0m\u001b[0;34m\u001b[0m\u001b[0;34m\u001b[0m\u001b[0m\n\u001b[1;32m     26\u001b[0m     \u001b[0;32mwhile\u001b[0m \u001b[0;32mnot\u001b[0m \u001b[0mboard\u001b[0m\u001b[0;34m.\u001b[0m\u001b[0mis_game_over\u001b[0m\u001b[0;34m(\u001b[0m\u001b[0;34m)\u001b[0m\u001b[0;34m:\u001b[0m\u001b[0;34m\u001b[0m\u001b[0;34m\u001b[0m\u001b[0m\n\u001b[0;32m---> 27\u001b[0;31m         \u001b[0mboard\u001b[0m\u001b[0;34m.\u001b[0m\u001b[0mpush\u001b[0m\u001b[0;34m(\u001b[0m\u001b[0mrandom\u001b[0m\u001b[0;34m.\u001b[0m\u001b[0mchoice\u001b[0m\u001b[0;34m(\u001b[0m\u001b[0mlist\u001b[0m\u001b[0;34m(\u001b[0m\u001b[0mboard\u001b[0m\u001b[0;34m.\u001b[0m\u001b[0mlegal_moves\u001b[0m\u001b[0;34m)\u001b[0m\u001b[0;34m)\u001b[0m\u001b[0;34m)\u001b[0m\u001b[0;34m\u001b[0m\u001b[0;34m\u001b[0m\u001b[0m\n\u001b[0m\u001b[1;32m     28\u001b[0m     \u001b[0;32mreturn\u001b[0m \u001b[0mi\u001b[0m\u001b[0;34m,\u001b[0m \u001b[0moutcome\u001b[0m\u001b[0;34m(\u001b[0m\u001b[0mboard\u001b[0m\u001b[0;34m)\u001b[0m\u001b[0;34m,\u001b[0m \u001b[0mmoves\u001b[0m\u001b[0;34m(\u001b[0m\u001b[0mboard\u001b[0m\u001b[0;34m)\u001b[0m\u001b[0;34m\u001b[0m\u001b[0;34m\u001b[0m\u001b[0m\n\u001b[1;32m     29\u001b[0m \u001b[0;34m\u001b[0m\u001b[0m\n",
      "\u001b[0;32m/Library/Frameworks/Python.framework/Versions/3.8/lib/python3.8/site-packages/chess/__init__.py\u001b[0m in \u001b[0;36mgenerate_legal_moves\u001b[0;34m(self, from_mask, to_mask)\u001b[0m\n\u001b[1;32m   3322\u001b[0m         \u001b[0;32mif\u001b[0m \u001b[0mking_mask\u001b[0m\u001b[0;34m:\u001b[0m\u001b[0;34m\u001b[0m\u001b[0;34m\u001b[0m\u001b[0m\n\u001b[1;32m   3323\u001b[0m             \u001b[0mking\u001b[0m \u001b[0;34m=\u001b[0m \u001b[0mmsb\u001b[0m\u001b[0;34m(\u001b[0m\u001b[0mking_mask\u001b[0m\u001b[0;34m)\u001b[0m\u001b[0;34m\u001b[0m\u001b[0;34m\u001b[0m\u001b[0m\n\u001b[0;32m-> 3324\u001b[0;31m             \u001b[0mblockers\u001b[0m \u001b[0;34m=\u001b[0m \u001b[0mself\u001b[0m\u001b[0;34m.\u001b[0m\u001b[0m_slider_blockers\u001b[0m\u001b[0;34m(\u001b[0m\u001b[0mking\u001b[0m\u001b[0;34m)\u001b[0m\u001b[0;34m\u001b[0m\u001b[0;34m\u001b[0m\u001b[0m\n\u001b[0m\u001b[1;32m   3325\u001b[0m             \u001b[0mcheckers\u001b[0m \u001b[0;34m=\u001b[0m \u001b[0mself\u001b[0m\u001b[0;34m.\u001b[0m\u001b[0mattackers_mask\u001b[0m\u001b[0;34m(\u001b[0m\u001b[0;32mnot\u001b[0m \u001b[0mself\u001b[0m\u001b[0;34m.\u001b[0m\u001b[0mturn\u001b[0m\u001b[0;34m,\u001b[0m \u001b[0mking\u001b[0m\u001b[0;34m)\u001b[0m\u001b[0;34m\u001b[0m\u001b[0;34m\u001b[0m\u001b[0m\n\u001b[1;32m   3326\u001b[0m             \u001b[0;32mif\u001b[0m \u001b[0mcheckers\u001b[0m\u001b[0;34m:\u001b[0m\u001b[0;34m\u001b[0m\u001b[0;34m\u001b[0m\u001b[0m\n",
      "\u001b[0;32m/Library/Frameworks/Python.framework/Versions/3.8/lib/python3.8/site-packages/chess/__init__.py\u001b[0m in \u001b[0;36m_slider_blockers\u001b[0;34m(self, king)\u001b[0m\n\u001b[1;32m   3262\u001b[0m         \u001b[0mbishops_and_queens\u001b[0m \u001b[0;34m=\u001b[0m \u001b[0mself\u001b[0m\u001b[0;34m.\u001b[0m\u001b[0mbishops\u001b[0m \u001b[0;34m|\u001b[0m \u001b[0mself\u001b[0m\u001b[0;34m.\u001b[0m\u001b[0mqueens\u001b[0m\u001b[0;34m\u001b[0m\u001b[0;34m\u001b[0m\u001b[0m\n\u001b[1;32m   3263\u001b[0m \u001b[0;34m\u001b[0m\u001b[0m\n\u001b[0;32m-> 3264\u001b[0;31m         snipers = ((BB_RANK_ATTACKS[king][0] & rooks_and_queens) |\n\u001b[0m\u001b[1;32m   3265\u001b[0m                    \u001b[0;34m(\u001b[0m\u001b[0mBB_FILE_ATTACKS\u001b[0m\u001b[0;34m[\u001b[0m\u001b[0mking\u001b[0m\u001b[0;34m]\u001b[0m\u001b[0;34m[\u001b[0m\u001b[0;36m0\u001b[0m\u001b[0;34m]\u001b[0m \u001b[0;34m&\u001b[0m \u001b[0mrooks_and_queens\u001b[0m\u001b[0;34m)\u001b[0m \u001b[0;34m|\u001b[0m\u001b[0;34m\u001b[0m\u001b[0;34m\u001b[0m\u001b[0m\n\u001b[1;32m   3266\u001b[0m                    (BB_DIAG_ATTACKS[king][0] & bishops_and_queens))\n",
      "\u001b[0;31mKeyboardInterrupt\u001b[0m: "
     ]
    }
   ],
   "source": [
    "from queue import Queue\n",
    "import chess, random, _thread\n",
    "import pandas as pd\n",
    "import numpy as np\n",
    "import matplotlib.pyplot as plt\n",
    "import scipy.stats\n",
    "\n",
    "def outcome(board):\n",
    "    if board.is_checkmate():\n",
    "        if board.turn:\n",
    "            return \"Black\"\n",
    "        else:\n",
    "            return \"White\"\n",
    "    else:\n",
    "        return \"Draw\"\n",
    "\n",
    "#calc total moves\n",
    "def moves(board):\n",
    "    return board.fullmove_number * 2 - 1 if board.turn else board.fullmove_number * 2 - 2\n",
    "\n",
    "def play(i):\n",
    "    board = chess.Board()\n",
    "    while not board.is_game_over():\n",
    "        board.push(random.choice(list(board.legal_moves)))\n",
    "    return i, outcome(board), moves(board)\n",
    "\n",
    "def thread_wrapper(i, func, stat, q):\n",
    "    def run():\n",
    "        q.put(func)\n",
    "        stat[i] = True\n",
    "    return run\n",
    "\n",
    "workers = 500000\n",
    "status = [False for i in range(workers)]\n",
    "q = Queue()\n",
    "for i in range(workers):\n",
    "    _thread.start_new_thread(thread_wrapper(i, play(i), status, q), tuple())\n",
    "\n",
    "while not all(status):\n",
    "    pass\n",
    "\n",
    "results = []\n",
    "while not q.empty():\n",
    "    results.append(q.get())\n",
    "results_df = pd.DataFrame(results, columns=['game_n', 'outcome', 'moves'])\n",
    "#TODO process the results\n",
    "\n",
    "results_df.to_csv('my_file.csv')\n",
    "\n",
    "black = results_df.loc[results_df['outcome'] == 'Black']\n",
    "white = results_df.loc[results_df['outcome'] == 'White']\n",
    "draw = results_df.loc[results_df['outcome'] == 'Draw']\n",
    "win = results_df.loc[results_df['outcome'] != 'Draw']\n",
    "\n",
    "Total = len(results_df.index)\n",
    "Wins = len(win.index)\n",
    "\n",
    "PercentBlack = \"Black Wins ≈ %s\" % ('{0:.2%}'.format(len(black.index)/Total))\n",
    "PercentWhite = \"White Wins ≈ %s\" % ('{0:.2%}'.format(len(white.index)/Total))\n",
    "PercentDraw = \"Draw ≈ %s\" % ('{0:.2%}'.format(len(draw.index)/Total))\n",
    "AllTitle = 'Distribution of Moves by All Outcomes (nSample = %s)' % workers\n",
    "\n",
    "a = draw.moves\n",
    "b = black.moves\n",
    "c = white.moves\n",
    "\n",
    "kdea = scipy.stats.gaussian_kde(a)\n",
    "kdeb = scipy.stats.gaussian_kde(b)\n",
    "kdec = scipy.stats.gaussian_kde(c)\n",
    "\n",
    "grid = np.arange(700)\n",
    "\n",
    "#weighted kde curves\n",
    "wa = kdea(grid)*(len(a)/float(len(a)+len(b)+len(c)))\n",
    "wb = kdeb(grid)*(len(b)/float(len(a)+len(b)+len(c)))\n",
    "wc = kdec(grid)*(len(c)/float(len(a)+len(b)+len(c)))\n",
    "\n",
    "total = wa+wb+wc\n",
    "wtotal = wb+wc\n",
    "\n",
    "plt.figure(figsize=(10,5))\n",
    "plt.plot(grid, total, lw=2, label=\"Total\")\n",
    "plt.plot(grid, wa, lw=1, label=PercentDraw)\n",
    "plt.plot(grid, wb, lw=1, label=PercentBlack)\n",
    "plt.plot(grid, wc, lw=1, label=PercentWhite)\n",
    "plt.title(AllTitle)\n",
    "plt.ylabel('Density')\n",
    "plt.xlabel('Number of Moves')\n",
    "plt.legend()\n",
    "plt.show()\n",
    "\n",
    "ExpectedBlack = \"EV Black Wins ≈ %s\" % ('{0:.2%}'.format(len(black.index)/Wins))\n",
    "ExpectedWhite = \"EV White Wins ≈ %s\" % ('{0:.2%}'.format(len(white.index)/Wins))\n",
    "WinTitle = 'Distribution of Moves by Wins (nWins = %s)' % Wins\n",
    "\n",
    "plt.figure(figsize=(10,5))\n",
    "plt.plot(grid, wtotal, lw=2, label=\"Wins\")\n",
    "plt.plot(grid, wb, lw=1, label=ExpectedBlack)\n",
    "plt.plot(grid, wc, lw=1, label=ExpectedWhite)\n",
    "plt.title(WinTitle)\n",
    "plt.ylabel('Density')\n",
    "plt.xlabel('Number of Moves')\n",
    "plt.legend()\n",
    "plt.show()\n",
    "\n",
    "print(\"Most frequent moves of All:\", grid[total.argmax()], round(max(total), 4), \"for\", Total, \"games\")\n",
    "print(\"Most frequent moves of Draws:\", grid[wa.argmax()], round(max(wa), 4), \"for\", len(draw.index), \"games\")\n",
    "print(\"Most frequent moves of Wins:\", grid[wtotal.argmax()], round(max(wtotal), 4), \"for\", Wins, \"games\")\n",
    "print(\"Most frequent moves of Black wins:\", grid[wb.argmax()], round(max(wb), 4), \"for\", len(black.index), \"games\")\n",
    "print(\"Most frequent moves of White wins:\", grid[wc.argmax()], round(max(wc), 4), \"for\", len(white.index), \"games\")"
   ]
  },
  {
   "cell_type": "code",
   "execution_count": 3,
   "metadata": {},
   "outputs": [],
   "source": [
    "import chess, random, _thread\n",
    "import numpy as np\n",
    "import matplotlib.pyplot as plt\n",
    "import pandas as pd"
   ]
  },
  {
   "cell_type": "code",
   "execution_count": 66,
   "metadata": {},
   "outputs": [],
   "source": [
    "white_data = np.zeros((64, 6), dtype=int) # A1 = 0, B1 = 1, ..., G8 = 62, H8 = 63\n",
    "black_data = np.zeros((64, 6), dtype=int)\n",
    "\n",
    "# store total number of visits, by piece, in each cell\n",
    "def num_visits(to_square, piece, color):\n",
    "    if color:\n",
    "        white_data[to_square][piece.piece_type-1] += 1\n",
    "    else:\n",
    "        black_data[to_square][piece.piece_type-1] += 1\n",
    "\n",
    "for i in range(10000):\n",
    "    board = chess.Board()\n",
    "    j = 0\n",
    "    while not board.is_game_over():\n",
    "        move = random.choice(list(board.legal_moves))\n",
    "        j += 1\n",
    "        num_visits(move.to_square, board.piece_at(move.from_square), board.color_at(move.from_square))\n",
    "        #write_move(move.to_square, j, board.piece_at(move.from_square), board.piece_at(move.to_square))\n",
    "        # insert here operations completed after each move\n",
    "        #print(move.to_square, board.piece_at(move.from_square), board.piece_at(move.to_square))\n",
    "        board.push(move)"
   ]
  },
  {
   "cell_type": "code",
   "execution_count": 78,
   "metadata": {},
   "outputs": [
    {
     "data": {
      "image/png": "[encoded data removed]",
      "text/plain": [
       "<Figure size 1080x720 with 12 Axes>"
      ]
     },
     "metadata": {
      "needs_background": "light"
     },
     "output_type": "display_data"
    }
   ],
   "source": [
    "visits_board = np.reshape(black_data, (8, 8, 6))\n",
    "plt.figure(figsize=(15, 10))\n",
    "for i in range(6):\n",
    "    plt.subplot(2, 3, i+1)\n",
    "    plt.imshow(visits_board[:,:,i], \"inferno\")\n",
    "    plt.title(\"Number of Visits for \" + piece_map[i+1].capitalize())\n",
    "    plt.xticks(np.arange(8), (\"A\", \"B\", \"C\", \"D\", \"E\", \"F\", \"G\", \"H\"))\n",
    "    plt.colorbar()\n",
    "plt.savefig('heatmap.png', dpi=400, transparent=True)"
   ]
  },
  {
   "cell_type": "code",
   "execution_count": 30,
   "metadata": {},
   "outputs": [
    {
     "name": "stdout",
     "output_type": "stream",
     "text": [
      "[0 0 0 0 0 0]\n"
     ]
    }
   ],
   "source": [
    "data = np.zeros((64, 6), dtype=int)\n",
    "print(data[0])"
   ]
  },
  {
   "cell_type": "code",
   "execution_count": 55,
   "metadata": {},
   "outputs": [],
   "source": [
    "piece_map = {1: \"pawn\", 2: \"knight\", 3: \"bishop\", 4: \"rook\", 5: \"queen\", 6: \"king\"}"
   ]
  },
  {
   "cell_type": "code",
   "execution_count": 56,
   "metadata": {},
   "outputs": [
    {
     "name": "stdout",
     "output_type": "stream",
     "text": [
      "pawn\n"
     ]
    }
   ],
   "source": [
    "print(piece_map[1])"
   ]
  },
  {
   "cell_type": "code",
   "execution_count": 68,
   "metadata": {},
   "outputs": [
    {
     "data": {
      "text/plain": [
       "array([[[ 2099,   984,  2626,  3939,  1401,  2700],\n",
       "        [ 1741,  1372,  2684,  4306,  1547,  4192],\n",
       "        [ 1567,  2018,  3121,  4289,  1611,  3937],\n",
       "        [ 1457,  1941,  2935,  4284,  1602,  3839],\n",
       "        [ 1354,  2004,  2851,  4386,  1493,  3772],\n",
       "        [ 1535,  2009,  3002,  4198,  1497,  3801],\n",
       "        [ 1643,  1368,  2618,  4357,  1474,  4136],\n",
       "        [ 2002,  1013,  2616,  3932,  1309,  2722]],\n",
       "\n",
       "       [[ 2327,  1838,  2687,  3748,  1560,  4374],\n",
       "        [ 2029,  1973,  4249,  4106,  1796,  6004],\n",
       "        [ 1820,  3571,  3851,  3986,  1735,  5773],\n",
       "        [ 1851,  3157,  4221,  4073,  1758,  5583],\n",
       "        [ 1722,  3179,  4125,  3993,  1710,  5601],\n",
       "        [ 1817,  3465,  3809,  3916,  1789,  5596],\n",
       "        [ 1937,  1986,  4149,  4056,  1760,  5955],\n",
       "        [ 2232,  1787,  2668,  3688,  1524,  4367]],\n",
       "\n",
       "       [[ 3237,  1920,  4111,  3782,  1754,  4416],\n",
       "        [ 2955,  3420,  3728,  4267,  1932,  6471],\n",
       "        [ 2927,  4314,  5122,  4107,  2222,  6004],\n",
       "        [ 2842,  4655,  4965,  4190,  2152,  6086],\n",
       "        [ 2716,  4560,  5058,  4069,  2024,  5974],\n",
       "        [ 2922,  4143,  5170,  4035,  2084,  5796],\n",
       "        [ 2908,  3368,  3685,  4065,  1964,  6406],\n",
       "        [ 3205,  1965,  3784,  3845,  1682,  4599]],\n",
       "\n",
       "       [[ 4704,  2072,  3149,  4214,  1874,  5132],\n",
       "        [ 4755,  5332,  5309,  4512,  2255,  7401],\n",
       "        [ 4754,  4294,  5207,  4330,  2281,  7224],\n",
       "        [ 4707,  5117,  5997,  4665,  2616,  6931],\n",
       "        [ 4691,  4896,  6288,  4524,  2378,  7218],\n",
       "        [ 4819,  4105,  5078,  4436,  2378,  7263],\n",
       "        [ 4744,  5255,  5262,  4505,  2042,  7770],\n",
       "        [ 4663,  2015,  2972,  4235,  2078,  5513]],\n",
       "\n",
       "       [[ 7467,  2615,  2721,  4852,  2550,  6325],\n",
       "        [ 8115,  3249,  4778,  4944,  2421,  8966],\n",
       "        [ 7627,  5651,  6404,  4722,  2526,  9047],\n",
       "        [ 7750,  5650,  6476,  4887,  2638,  9232],\n",
       "        [ 7795,  5713,  6427,  4867,  2731,  9435],\n",
       "        [ 7592,  5689,  6341,  4741,  2357,  9637],\n",
       "        [ 8129,  3145,  4671,  5044,  2621, 10011],\n",
       "        [ 7477,  2582,  2693,  4903,  1528,  7188]],\n",
       "\n",
       "       [[ 4836,  7016,  5478,  7019,  1879,  8302],\n",
       "        [ 5091,  3678,  3623,  6051,  3596, 12157],\n",
       "        [ 4963, 10354,  6146,  5833,  2957, 12369],\n",
       "        [ 5106,  4548,  7137,  5803,  3742, 13502],\n",
       "        [ 5090,  4406,  7333,  5701,  2923, 14124],\n",
       "        [ 4935, 10150,  6161,  5790,  3351, 13936],\n",
       "        [ 5146,  3616,  3701,  6129,  2148, 14305],\n",
       "        [ 4963,  6969,  5262,  7053,  1503,  9698]],\n",
       "\n",
       "       [[    0,  2054,  2292,  9452,  1713, 10315],\n",
       "        [    0,  2359,  8078,  7270,  2508, 15865],\n",
       "        [    0,  4148,  3726,  6802,  4309, 17183],\n",
       "        [    0,  6556,  7302,  6646,  4144, 20852],\n",
       "        [    0,  6405,  7191,  6592,  3743, 22079],\n",
       "        [    0,  4159,  3983,  6785,  2325, 21933],\n",
       "        [    0,  2234,  8039,  7203,  2005, 19454],\n",
       "        [    0,  1982,  2471,  9536,  1435, 12819]],\n",
       "\n",
       "       [[    0,  1194,  3164,  9010,  1497,  7153],\n",
       "        [    0,  4166,  2492, 10645,  2310, 11953],\n",
       "        [    0,  2507,  5448,  8924,  3105, 13170],\n",
       "        [    0,  2752,  3276,  8589,  3413, 17198],\n",
       "        [    0,  2573,  3400,  8377,  2910, 17363],\n",
       "        [    0,  2474,  5338,  8533,  2073, 16421],\n",
       "        [    0,  3984,  2654, 10304,  1598, 14904],\n",
       "        [    0,  1165,  3139,  8778,  1299,  8854]]])"
      ]
     },
     "execution_count": 68,
     "metadata": {},
     "output_type": "execute_result"
    }
   ],
   "source": [
    "visits_board"
   ]
  },
  {
   "cell_type": "code",
   "execution_count": null,
   "metadata": {},
   "outputs": [],
   "source": []
  }
 ],
 "metadata": {
  "kernelspec": {
   "display_name": "Python 3",
   "language": "python",
   "name": "python3"
  },
  "language_info": {
   "codemirror_mode": {
    "name": "ipython",
    "version": 3
   },
   "file_extension": ".py",
   "mimetype": "text/x-python",
   "name": "python",
   "nbconvert_exporter": "python",
   "pygments_lexer": "ipython3",
   "version": "3.8.5"
  }
 },
 "nbformat": 4,
 "nbformat_minor": 4
}
